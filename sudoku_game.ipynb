{
 "cells": [
  {
   "cell_type": "code",
   "execution_count": 3,
   "id": "532057fa",
   "metadata": {},
   "outputs": [
    {
     "name": "stdout",
     "output_type": "stream",
     "text": [
      "Collecting numpy\n",
      "  Downloading numpy-1.26.4-cp311-cp311-win_amd64.whl.metadata (61 kB)\n",
      "     ---------------------------------------- 0.0/61.0 kB ? eta -:--:--\n",
      "     ------------ ------------------------- 20.5/61.0 kB 320.0 kB/s eta 0:00:01\n",
      "     ------------------------------- ------ 51.2/61.0 kB 435.7 kB/s eta 0:00:01\n",
      "     -------------------------------------- 61.0/61.0 kB 461.8 kB/s eta 0:00:00\n",
      "Downloading numpy-1.26.4-cp311-cp311-win_amd64.whl (15.8 MB)\n",
      "   ---------------------------------------- 0.0/15.8 MB ? eta -:--:--\n",
      "   - -------------------------------------- 0.6/15.8 MB 19.5 MB/s eta 0:00:01\n",
      "   -------- ------------------------------- 3.3/15.8 MB 51.7 MB/s eta 0:00:01\n",
      "   -------------- ------------------------- 5.6/15.8 MB 44.9 MB/s eta 0:00:01\n",
      "   ----------------------- ---------------- 9.3/15.8 MB 53.9 MB/s eta 0:00:01\n",
      "   ------------------------------------ --- 14.4/15.8 MB 93.9 MB/s eta 0:00:01\n",
      "   ---------------------------------------  15.8/15.8 MB 81.8 MB/s eta 0:00:01\n",
      "   ---------------------------------------- 15.8/15.8 MB 59.4 MB/s eta 0:00:00\n",
      "Installing collected packages: numpy\n",
      "Successfully installed numpy-1.26.4\n",
      "Note: you may need to restart the kernel to use updated packages.\n"
     ]
    }
   ],
   "source": [
    "%pip install numpy\n",
    "import numpy as np\n",
    "import random"
   ]
  },
  {
   "cell_type": "code",
   "execution_count": 4,
   "id": "9dd689af",
   "metadata": {
    "dotnet_interactive": {
     "language": "mermaid"
    },
    "polyglot_notebook": {
     "kernelName": "mermaid"
    }
   },
   "outputs": [
    {
     "name": "stdout",
     "output_type": "stream",
     "text": [
      "Generated Sudoku Board:\n",
      "1 9 8 7 3 4 2 6 5\n",
      "2 3 6 1 9 . 7 4 8\n",
      "5 7 4 8 2 6 1 9 3\n",
      "7 4 2 9 1 . 5 3 6\n",
      "3 6 9 2 5 7 4 8 1\n",
      "8 1 5 6 4 3 9 2 7\n",
      "9 5 3 4 . . 8 . 2\n",
      "6 . 7 . 8 . 3 1 .\n",
      "4 8 1 3 7 . 6 5 9\n",
      "\n",
      "Sudoku Puzzle:\n",
      ". . 8 . . 4 . 6 .\n",
      ". 3 6 . 9 . . . .\n",
      "5 7 4 . 2 . . . .\n",
      "7 4 2 . . . . . 6\n",
      ". . . . 5 . . . 1\n",
      ". 1 . . 4 . . 2 7\n",
      ". 5 3 4 . . 8 . .\n",
      ". . . . . . 3 1 .\n",
      "4 . . 3 . . 6 5 9\n"
     ]
    }
   ],
   "source": [
    "\n",
    "\n",
    "def is_valid(board, row, col, num):\n",
    "    for i in range(9):\n",
    "        if board[row][i] == num or board[i][col] == num:\n",
    "            return False\n",
    "        \n",
    "    startRow, startCol = 3 * (row // 3), 3 * (col // 3)\n",
    "    for i in range(3):\n",
    "        for j in range(3):\n",
    "            if board[i + startRow][j + startCol] == num:\n",
    "                return False\n",
    "    return True\n",
    "\n",
    "def solve_sudoku(board):\n",
    "    for row in range(9):\n",
    "        for col in range(9):\n",
    "            if board[row][col] == 0:\n",
    "                for num in range(1, 10):\n",
    "                    if is_valid(board, row, col, num):\n",
    "                        board[row][col] = num\n",
    "                        if solve_sudoku(board):\n",
    "                            return True\n",
    "                        board[row][col] = 0\n",
    "                return False\n",
    "    return True\n",
    "\n",
    "def generate_sudoku():\n",
    "    board = np.zeros((9, 9), dtype=int)\n",
    "    \n",
    "    for i in range(9):\n",
    "        for j in range(9):\n",
    "            if board[i][j] == 0:\n",
    "                num = random.randint(1, 9)\n",
    "                attempts = 0\n",
    "                while not is_valid(board, i, j, num) and attempts < 50:\n",
    "                    num = random.randint(1, 9)\n",
    "                    attempts += 1\n",
    "                if attempts < 50:\n",
    "                    board[i][j] = num\n",
    "                if not solve_sudoku(board.copy()):\n",
    "                    board[i][j] = 0\n",
    "                    \n",
    "    return board\n",
    "\n",
    "def remove_numbers(board, num_holes):\n",
    "    board_copy = board.copy()\n",
    "    count = 0\n",
    "    while count < num_holes:\n",
    "        row, col = random.randint(0, 8), random.randint(0, 8)\n",
    "        if board_copy[row][col] != 0:\n",
    "            board_copy[row][col] = 0\n",
    "            count += 1\n",
    "    return board_copy\n",
    "\n",
    "def print_sudoku(board):\n",
    "    for row in board:\n",
    "        print(\" \".join(str(num) if num != 0 else '.' for num in row))\n",
    "\n",
    "sudoku_board = generate_sudoku()\n",
    "puzzle = remove_numbers(sudoku_board, 40)\n",
    "\n",
    "print(\"Generated Sudoku Board:\")\n",
    "print_sudoku(sudoku_board)\n",
    "\n",
    "print(\"\\nSudoku Puzzle:\")\n",
    "print_sudoku(puzzle)"
   ]
  }
 ],
 "metadata": {
  "kernelspec": {
   "display_name": "Python 3",
   "language": "python",
   "name": "python3"
  },
  "language_info": {
   "codemirror_mode": {
    "name": "ipython",
    "version": 3
   },
   "file_extension": ".py",
   "mimetype": "text/x-python",
   "name": "python",
   "nbconvert_exporter": "python",
   "pygments_lexer": "ipython3",
   "version": "3.11.9"
  },
  "polyglot_notebook": {
   "kernelInfo": {
    "defaultKernelName": "csharp",
    "items": [
     {
      "aliases": [],
      "name": "csharp"
     }
    ]
   }
  }
 },
 "nbformat": 4,
 "nbformat_minor": 5
}
