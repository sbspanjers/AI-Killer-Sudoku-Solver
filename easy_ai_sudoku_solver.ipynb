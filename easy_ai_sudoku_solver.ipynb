{
 "cells": [
  {
   "cell_type": "code",
   "execution_count": 1,
   "metadata": {},
   "outputs": [],
   "source": [
    "import random"
   ]
  },
  {
   "cell_type": "code",
   "execution_count": 2,
   "metadata": {},
   "outputs": [
    {
     "name": "stdout",
     "output_type": "stream",
     "text": [
      ". . . | . . . | 4 9 . \n",
      ". 9 . | 3 6 1 | . . . \n",
      ". . 1 | . . . | 2 . . \n",
      "--------------------\n",
      ". . . | . . . | . . . \n",
      ". 4 6 | 2 . . | 3 . 8 \n",
      ". 8 7 | . 3 . | . . . \n",
      "--------------------\n",
      "7 . 4 | . 8 . | . . . \n",
      ". 2 9 | . . . | . . 3 \n",
      "6 . . | . 2 . | . 8 9 \n"
     ]
    }
   ],
   "source": [
    "BOARDSIZE = 9  # Size of the board (9x9 for standard Sudoku)\n",
    "SUBGRID_SIZE = 3 \n",
    "empty_cells = 55 # Size of the subgrids (3x3 for standard Sudoku)\n",
    "\n",
    "def is_valid(board, row, col, num):\n",
    "    for i in range(BOARDSIZE):\n",
    "        if board[row][i] == num or board[i][col] == num:\n",
    "            return False\n",
    "\n",
    "    start_row, start_col = SUBGRID_SIZE * (row // SUBGRID_SIZE), SUBGRID_SIZE * (col // SUBGRID_SIZE)\n",
    "    for i in range(start_row, start_row + SUBGRID_SIZE):\n",
    "        for j in range(start_col, start_col + SUBGRID_SIZE):\n",
    "            if board[i][j] == num:\n",
    "                return False\n",
    "\n",
    "    return True\n",
    "\n",
    "def fill_board(board):\n",
    "    numbers = list(range(1, BOARDSIZE + 1))\n",
    "    for row in range(BOARDSIZE):\n",
    "        for col in range(BOARDSIZE):\n",
    "            if board[row][col] == 0:\n",
    "                random.shuffle(numbers)  # Shuffle numbers to introduce randomness\n",
    "                for num in numbers:\n",
    "                    if is_valid(board, row, col, num):\n",
    "                        board[row][col] = num\n",
    "                        if fill_board(board):\n",
    "                            return True\n",
    "                        board[row][col] = 0\n",
    "                return False\n",
    "    return True\n",
    "\n",
    "def generate_sudoku_template():\n",
    "    board = [[0 for _ in range(BOARDSIZE)] for _ in range(BOARDSIZE)]\n",
    "    fill_board(board)\n",
    "\n",
    "    removed = 0\n",
    "    while removed < empty_cells:\n",
    "        row, col = random.randint(0, BOARDSIZE - 1), random.randint(0, BOARDSIZE - 1)\n",
    "        if board[row][col] != 0:\n",
    "            board[row][col] = 0\n",
    "            removed += 1\n",
    "\n",
    "    return board\n",
    "\n",
    "def print_board(board):\n",
    "    for i, row in enumerate(board):\n",
    "        if i % SUBGRID_SIZE == 0 and i != 0:\n",
    "            print(\"-\" * (BOARDSIZE * 2 + (SUBGRID_SIZE - 1)))  # Add a horizontal separator every SUBGRID_SIZE rows\n",
    "        for j, num in enumerate(row):\n",
    "            if j % SUBGRID_SIZE == 0 and j != 0:\n",
    "                print(\"|\", end=\" \")  # Add a vertical separator every SUBGRID_SIZE columns\n",
    "            print(str(num) if num != 0 else '.', end=\" \")\n",
    "        print()\n",
    "\n",
    "def ai_solve(board):\n",
    "    for row in range(BOARDSIZE):\n",
    "        for col in range(BOARDSIZE):\n",
    "            if board[row][col] == 0:\n",
    "                for num in range(1, BOARDSIZE + 1):\n",
    "                    if is_valid(board, row, col, num):\n",
    "                        board[row][col] = num\n",
    "                        if ai_solve(board):\n",
    "                            return True\n",
    "                        board[row][col] = 0\n",
    "                return False\n",
    "    return True\n",
    "\n",
    "sudoku_template = generate_sudoku_template()\n",
    "print_board(sudoku_template) "
   ]
  },
  {
   "cell_type": "markdown",
   "metadata": {},
   "source": [
    "AI solved answer:"
   ]
  },
  {
   "cell_type": "code",
   "execution_count": 3,
   "metadata": {},
   "outputs": [
    {
     "name": "stdout",
     "output_type": "stream",
     "text": [
      "Sudoku solved by AI:\n",
      "3 6 8 | 5 7 2 | 4 9 1 \n",
      "4 9 2 | 3 6 1 | 8 5 7 \n",
      "5 7 1 | 4 9 8 | 2 3 6 \n",
      "--------------------\n",
      "1 3 5 | 8 4 6 | 9 7 2 \n",
      "9 4 6 | 2 5 7 | 3 1 8 \n",
      "2 8 7 | 1 3 9 | 5 6 4 \n",
      "--------------------\n",
      "7 1 4 | 9 8 3 | 6 2 5 \n",
      "8 2 9 | 6 1 5 | 7 4 3 \n",
      "6 5 3 | 7 2 4 | 1 8 9 \n"
     ]
    }
   ],
   "source": [
    "if ai_solve(sudoku_template):\n",
    "    print(\"Sudoku solved by AI:\")\n",
    "    print_board(sudoku_template)\n",
    "else:\n",
    "    print(\"No solution exists for the given Sudoku.\")"
   ]
  }
 ],
 "metadata": {
  "kernelspec": {
   "display_name": "Python 3",
   "language": "python",
   "name": "python3"
  },
  "language_info": {
   "codemirror_mode": {
    "name": "ipython",
    "version": 3
   },
   "file_extension": ".py",
   "mimetype": "text/x-python",
   "name": "python",
   "nbconvert_exporter": "python",
   "pygments_lexer": "ipython3",
   "version": "3.11.9"
  }
 },
 "nbformat": 4,
 "nbformat_minor": 2
}
